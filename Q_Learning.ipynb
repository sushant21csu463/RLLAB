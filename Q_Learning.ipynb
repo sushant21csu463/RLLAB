{
  "nbformat": 4,
  "nbformat_minor": 0,
  "metadata": {
    "colab": {
      "provenance": [],
      "include_colab_link": true
    },
    "kernelspec": {
      "name": "python3",
      "display_name": "Python 3"
    },
    "language_info": {
      "name": "python"
    }
  },
  "cells": [
    {
      "cell_type": "markdown",
      "metadata": {
        "id": "view-in-github",
        "colab_type": "text"
      },
      "source": [
        "<a href=\"https://colab.research.google.com/github/sushant21csu463/RLLAB/blob/main/Q_Learning.ipynb\" target=\"_parent\"><img src=\"https://colab.research.google.com/assets/colab-badge.svg\" alt=\"Open In Colab\"/></a>"
      ]
    },
    {
      "cell_type": "code",
      "execution_count": null,
      "metadata": {
        "colab": {
          "base_uri": "https://localhost:8080/"
        },
        "id": "y-bSla-m0iVv",
        "outputId": "6280617a-11b5-46af-cbab-097c7a720a51"
      },
      "outputs": [
        {
          "output_type": "stream",
          "name": "stdout",
          "text": [
            "Q-table after state 1\n",
            "[[  0.   0.   0.   0.   0.   0.]\n",
            " [  0.   0.   0.   0.   0. 100.]\n",
            " [  0.   0.   0.   0.   0.   0.]\n",
            " [  0.   0.   0.   0.   0.   0.]\n",
            " [  0.   0.   0.   0.   0.   0.]\n",
            " [  0.   0.   0.   0.   0.   0.]]\n",
            "Q-table after state 3\n",
            "[[  0.   0.   0.   0.   0.   0.]\n",
            " [  0.   0.   0.   0.   0. 100.]\n",
            " [  0.   0.   0.   0.   0.   0.]\n",
            " [  0.  80.   0.   0.   0.   0.]\n",
            " [  0.   0.   0.   0.   0.   0.]\n",
            " [  0.   0.   0.   0.   0.   0.]]\n",
            "Q-table after state 5\n",
            "[[  0.   0.   0.   0.   0.   0.]\n",
            " [  0.   0.   0.   0.   0. 100.]\n",
            " [  0.   0.   0.   0.   0.   0.]\n",
            " [  0.  80.   0.   0.   0.   0.]\n",
            " [  0.   0.   0.   0.   0.   0.]\n",
            " [  0.  80.   0.   0.   0. 164.]]\n",
            "Final Q-table:\n",
            "[[  0.   0.   0.   0.   0.   0.]\n",
            " [  0.   0.   0.   0.   0. 100.]\n",
            " [  0.   0.   0.   0.   0.   0.]\n",
            " [  0.  80.   0.   0.   0.   0.]\n",
            " [  0.   0.   0.   0.   0.   0.]\n",
            " [  0.  80.   0.   0.   0. 164.]]\n"
          ]
        }
      ],
      "source": [
        "import numpy as np\n",
        "\n",
        "# Define the environment matrix\n",
        "env_matrix = np.array([\n",
        "    [-1, -1, -1, -1, 0, -1],\n",
        "    [-1, -1, -1, 0, -1, 100],\n",
        "    [-1, -1, -1, 0, -1, -1],\n",
        "    [-1, 0, 0, -1, 0, -1],\n",
        "    [0, -1, -1, 0, -1, 100],\n",
        "    [-1, 0, -1, -1, 0, 100]\n",
        "])\n",
        "\n",
        "# Initialize the Q-table with zeros\n",
        "num_states, num_actions = env_matrix.shape\n",
        "Q = np.zeros((num_states, num_actions))\n",
        "\n",
        "# Set hyperparameters\n",
        "gamma = 0.8\n",
        "\n",
        "# Define the sequence of states\n",
        "sequence = [1, 3, 5]\n",
        "\n",
        "# Q-learning algorithm\n",
        "for state in sequence:\n",
        "    # Find the non-negative Q-values for the possible actions in the current state\n",
        "    possible_actions = np.where(env_matrix[state] >= 0)[0]\n",
        "\n",
        "    # Update the Q-values for each possible action\n",
        "    for action in possible_actions:\n",
        "        Q[state, action] = env_matrix[state, action] + gamma * np.max(Q[action])\n",
        "\n",
        "    # Print the updated Q-table\n",
        "    print(\"Q-table after state\", state)\n",
        "    print(Q)\n",
        "\n",
        "print(\"Final Q-table:\")\n",
        "print(Q)"
      ]
    }
  ]
}