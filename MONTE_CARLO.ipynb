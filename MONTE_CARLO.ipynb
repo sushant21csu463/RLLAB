{
  "nbformat": 4,
  "nbformat_minor": 0,
  "metadata": {
    "colab": {
      "provenance": [],
      "include_colab_link": true
    },
    "kernelspec": {
      "name": "python3",
      "display_name": "Python 3"
    },
    "language_info": {
      "name": "python"
    }
  },
  "cells": [
    {
      "cell_type": "markdown",
      "metadata": {
        "id": "view-in-github",
        "colab_type": "text"
      },
      "source": [
        "<a href=\"https://colab.research.google.com/github/sushant21csu463/RLLAB/blob/main/MONTE_CARLO.ipynb\" target=\"_parent\"><img src=\"https://colab.research.google.com/assets/colab-badge.svg\" alt=\"Open In Colab\"/></a>"
      ]
    },
    {
      "cell_type": "code",
      "execution_count": null,
      "metadata": {
        "id": "TuppS1BOZGf2"
      },
      "outputs": [],
      "source": [
        "import numpy as np"
      ]
    },
    {
      "cell_type": "code",
      "source": [
        "states = [0,1,2,3,4]\n",
        "actions = [0 ,1]\n",
        "N_STATES = len(states)\n",
        "N_ACTIONS = len(actions)\n",
        "P = np.zeros((N_STATES, N_ACTIONS, N_STATES)) #transition probability\n",
        "R = np.zeros((N_STATES, N_ACTIONS, N_STATES)) #rewards"
      ],
      "metadata": {
        "id": "pXbH9slQZHd1"
      },
      "execution_count": null,
      "outputs": []
    },
    {
      "cell_type": "code",
      "source": [
        "P[0,0,1] = 1.0 #STATE ACTION and Reward\n",
        "P[1,1,2] = 1.0\n",
        "P[2,0,3] = 1.0\n",
        "P[3,1,4] = 1.0\n",
        "P[4,0,4] = 1.0\n",
        "\n",
        "R[0,0,1] = 1\n",
        "R[1,1,2] = 10\n",
        "R[2,0,3] = 100\n",
        "R[3,1,4] = 1000\n",
        "R[4,0,4] = 1.0\n",
        "\n",
        "gamma = 0.75"
      ],
      "metadata": {
        "id": "wvZ53lF5ZLYG"
      },
      "execution_count": null,
      "outputs": []
    },
    {
      "cell_type": "code",
      "source": [
        "#initialize policy and value arbitrarily\n",
        "policy = [ 0 for s in range(N_STATES)]\n",
        "V = np.zeros(N_STATES)\n",
        "print(\"Initial policy\", policy)"
      ],
      "metadata": {
        "colab": {
          "base_uri": "https://localhost:8080/"
        },
        "id": "IdClsl3eZQ_Q",
        "outputId": "6cd1d607-9cd8-46d1-8ed4-5dfb463096dd"
      },
      "execution_count": null,
      "outputs": [
        {
          "output_type": "stream",
          "name": "stdout",
          "text": [
            "Initial policy [0, 0, 0, 0, 0]\n"
          ]
        }
      ]
    },
    {
      "cell_type": "code",
      "source": [
        "is_value_changed = True\n",
        "iterations = 0\n",
        "while is_value_changed:\n",
        "  is_value_changed = False\n",
        "  iterations += 1"
      ],
      "metadata": {
        "id": "77skVugFZZWb"
      },
      "execution_count": null,
      "outputs": []
    },
    {
      "cell_type": "code",
      "source": [
        "#run value iteration for each state\n",
        "for s in range (N_STATES):\n",
        "  V[s] = sum([P[s,policy[s], s1] * (R[s,policy[s],s1] + gamma*V[s1]) for s1 in range(N_STATES)])"
      ],
      "metadata": {
        "id": "6phU54InZl5N"
      },
      "execution_count": null,
      "outputs": []
    },
    {
      "cell_type": "code",
      "source": [
        "#print \" Run for state\", s\n",
        "for s in range(N_STATES):\n",
        "  q_best = V[s]\n",
        "\n",
        "#print \"State\", s, \"q_best\", q_best\n",
        "for a in range (N_ACTIONS):\n",
        "  q_sa = sum([P[s, a ,s1] * (R[s,a,s1] + gamma *V[s1]) for s1 in range(N_STATES)])"
      ],
      "metadata": {
        "id": "ny2b-lHZZoS1"
      },
      "execution_count": null,
      "outputs": []
    },
    {
      "cell_type": "code",
      "source": [
        "for s in range(N_STATES):\n",
        "  q_best = V[s]\n",
        "  #print \"State\", s, \"q_best\", q_best\n",
        "  for a in range(N_ACTIONS):\n",
        "    q_sa = sum([P[s,a,s1] * (R[s,a,s1] + gamma *V[s1]) for s1 in range(N_STATES)])\n",
        "    if q_sa > q_best:\n",
        "      print(\"State\", s, \"q_sa\", q_sa, \"q_best\", q_best)\n",
        "      policy[s] = a\n",
        "      q_best = q_sa\n",
        "      is_value_changed = True\n",
        "print(\"Iterations\", iterations)"
      ],
      "metadata": {
        "colab": {
          "base_uri": "https://localhost:8080/"
        },
        "id": "c3e7l5_1aEOd",
        "outputId": "c0e3227d-987b-4825-ea2e-0dc9562772ed"
      },
      "execution_count": null,
      "outputs": [
        {
          "output_type": "stream",
          "name": "stdout",
          "text": [
            "State 1 q_sa 85.0 q_best 0.0\n",
            "State 3 q_sa 1000.75 q_best 0.0\n",
            "State 4 q_sa 1.75 q_best 1.0\n",
            "Iterations 1\n"
          ]
        }
      ]
    },
    {
      "cell_type": "code",
      "source": [
        "print(\"Final Policy\")\n",
        "print(policy)\n",
        "print(V)"
      ],
      "metadata": {
        "colab": {
          "base_uri": "https://localhost:8080/"
        },
        "id": "tSqhp52XadwP",
        "outputId": "a619a1e6-b31b-4dc8-e64c-dc0c96d2c1aa"
      },
      "execution_count": null,
      "outputs": [
        {
          "output_type": "stream",
          "name": "stdout",
          "text": [
            "Final Policy\n",
            "[0, 1, 0, 1, 0]\n",
            "[  1.   0. 100.   0.   1.]\n"
          ]
        }
      ]
    }
  ]
}