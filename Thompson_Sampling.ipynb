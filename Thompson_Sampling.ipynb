{
  "nbformat": 4,
  "nbformat_minor": 0,
  "metadata": {
    "colab": {
      "provenance": [],
      "include_colab_link": true
    },
    "kernelspec": {
      "name": "python3",
      "display_name": "Python 3"
    },
    "language_info": {
      "name": "python"
    }
  },
  "cells": [
    {
      "cell_type": "markdown",
      "metadata": {
        "id": "view-in-github",
        "colab_type": "text"
      },
      "source": [
        "<a href=\"https://colab.research.google.com/github/sushant21csu463/RLLAB/blob/main/Thompson_Sampling.ipynb\" target=\"_parent\"><img src=\"https://colab.research.google.com/assets/colab-badge.svg\" alt=\"Open In Colab\"/></a>"
      ]
    },
    {
      "cell_type": "code",
      "execution_count": null,
      "metadata": {
        "id": "YFe0I6kflhWM"
      },
      "outputs": [],
      "source": [
        "import numpy as np\n",
        "import matplotlib.pyplot as plt\n",
        "\n",
        "num_arms = 3\n",
        "true_probabilities = [0.9, 0.8, 0.7]\n",
        "num_steps = 1000\n",
        "num_pulls = np.zeros(num_arms)\n",
        "num_rewards = np.zeros(num_arms)\n",
        "cumulative_rewards = []\n",
        "regret = []\n",
        "for step in range(num_steps):\n",
        "\n",
        "    sampled_probabilities = [np.random.beta(num_rewards[i] + 1, num_pulls[i] - num_rewards[i] + 1) for i in range(num_arms)]\n",
        "    chosen_arm = np.argmax(sampled_probabilities)\n",
        "    reward = np.random.binomial(1, true_probabilities[chosen_arm])\n",
        "    num_pulls[chosen_arm] += 1\n",
        "    num_rewards[chosen_arm] += reward\n",
        "    cumulative_rewards.append(sum(num_rewards))\n",
        "    optimal_reward = max(true_probabilities) * (step + 1)\n",
        "    regret.append(optimal_reward - sum(num_rewards))\n",
        "\n",
        "plt.figure(figsize=(12, 6))\n",
        "plt.subplot(2, 1, 1)\n",
        "plt.plot(cumulative_rewards)\n",
        "plt.xlabel('Time Step')\n",
        "plt.ylabel('Cumulative Rewards')\n",
        "plt.title('Thompson Sampling - Cumulative Rewards')\n",
        "\n",
        "plt.subplot(2, 1, 2)\n",
        "plt.plot(regret)\n",
        "plt.xlabel('Time Step')\n",
        "plt.ylabel('Regret')\n",
        "plt.title('Thompson Sampling - Regret')\n",
        "\n",
        "plt.tight_layout()\n",
        "plt.show()\n",
        "print(num_steps)\n",
        "print(num_rewards)\n",
        "print(cumulative_rewards)\n"
      ]
    }
  ]
}