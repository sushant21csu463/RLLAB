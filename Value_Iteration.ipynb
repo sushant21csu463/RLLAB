{
  "nbformat": 4,
  "nbformat_minor": 0,
  "metadata": {
    "colab": {
      "provenance": [],
      "include_colab_link": true
    },
    "kernelspec": {
      "name": "python3",
      "display_name": "Python 3"
    },
    "language_info": {
      "name": "python"
    }
  },
  "cells": [
    {
      "cell_type": "markdown",
      "metadata": {
        "id": "view-in-github",
        "colab_type": "text"
      },
      "source": [
        "<a href=\"https://colab.research.google.com/github/sushant21csu463/RLLAB/blob/main/Value_Iteration.ipynb\" target=\"_parent\"><img src=\"https://colab.research.google.com/assets/colab-badge.svg\" alt=\"Open In Colab\"/></a>"
      ]
    },
    {
      "cell_type": "code",
      "execution_count": null,
      "metadata": {
        "id": "XQTLMvvr3V1k"
      },
      "outputs": [],
      "source": [
        "import numpy as np\n",
        "\n",
        "def value_iteration(states, actions, rewards, transition_probabilities, discount_factor):\n",
        "\n",
        "    # Initialize the value function.\n",
        "    values = np.zeros(len(states))\n",
        "\n",
        "    # Initialize the policy with zeros (or any default action).\n",
        "    policy = np.zeros(len(states), dtype=int)\n",
        "\n",
        "    # Iterate until the value function converges.\n",
        "    while True:\n",
        "        # Create a copy of the current value function for convergence checking.\n",
        "        values_old = values.copy()\n",
        "\n",
        "        # For each state, update the value function.\n",
        "        for state in states:\n",
        "            # Calculate the maximum value for the next state.\n",
        "            max_value = -float('inf')\n",
        "            best_action = None\n",
        "\n",
        "            for action in actions:\n",
        "                next_state_probabilities = transition_probabilities[state][action]\n",
        "                next_state_values = [values[next_state] * probability for next_state, probability in next_state_probabilities]\n",
        "                value = rewards[state][action] + discount_factor * sum(next_state_values)\n",
        "\n",
        "                if value > max_value:\n",
        "                    max_value = value\n",
        "                    best_action = action\n",
        "\n",
        "            # Update the value function and policy for the current state.\n",
        "            values[state] = max_value\n",
        "            policy[state] = best_action\n",
        "\n",
        "        # Check if the value function has converged.\n",
        "        converged = True\n",
        "        for state in states:\n",
        "            if np.abs(values[state] - values_old[state]) > 0.00001:\n",
        "                converged = False\n",
        "\n",
        "        # If the value function has converged, break out of the loop.\n",
        "        if converged:\n",
        "            break\n",
        "\n",
        "    return values, policy"
      ]
    },
    {
      "cell_type": "code",
      "source": [
        "states = [0, 1, 2]  # Replace with your list of states.\n",
        "actions = [0, 1]    # Replace with your list of actions.\n",
        "\n",
        "# Define the rewards and transition probabilities as dictionaries (adjust these according to your specific problem).\n",
        "rewards = {\n",
        "    0: {0: 10, 1: 0},\n",
        "    1: {0: 0, 1: 0},\n",
        "    2: {0: 0, 1: 1}\n",
        "}\n",
        "\n",
        "transition_probabilities = {\n",
        "    0: {0: [(0, 0.7), (1, 0.3)], 1: [(1, 0.1), (2, 0.9)]},\n",
        "    1: {0: [(0, 0.2), (1, 0.8)], 1: [(1, 0.4), (2, 0.6)]},\n",
        "    2: {0: [(0, 0.5), (1, 0.5)], 1: [(1, 0.2), (2, 0.8)]}\n",
        "}\n",
        "\n",
        "discount_factor = 0.9\n",
        "\n",
        "values, policy = value_iteration(states, actions, rewards, transition_probabilities, discount_factor)\n",
        "\n",
        "\n",
        "print(\"Optimal Value Function:\")\n",
        "print(values)"
      ],
      "metadata": {
        "colab": {
          "base_uri": "https://localhost:8080/"
        },
        "id": "F9lJ78Z93a9o",
        "outputId": "bbeb0589-a78e-4b24-dd73-5826a1265acf"
      },
      "execution_count": null,
      "outputs": [
        {
          "output_type": "stream",
          "name": "stdout",
          "text": [
            "Optimal Value Function:\n",
            "[50.90901222 32.72719768 37.63629445]\n"
          ]
        }
      ]
    }
  ]
}