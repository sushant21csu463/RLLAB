{
  "nbformat": 4,
  "nbformat_minor": 0,
  "metadata": {
    "colab": {
      "provenance": [],
      "include_colab_link": true
    },
    "kernelspec": {
      "name": "python3",
      "display_name": "Python 3"
    },
    "language_info": {
      "name": "python"
    }
  },
  "cells": [
    {
      "cell_type": "markdown",
      "metadata": {
        "id": "view-in-github",
        "colab_type": "text"
      },
      "source": [
        "<a href=\"https://colab.research.google.com/github/sushant21csu463/RLLAB/blob/main/monte_carlo_policy_iterration_and_value_iterration.ipynb\" target=\"_parent\"><img src=\"https://colab.research.google.com/assets/colab-badge.svg\" alt=\"Open In Colab\"/></a>"
      ]
    },
    {
      "cell_type": "code",
      "execution_count": null,
      "metadata": {
        "id": "UBnD-cVxJYEu"
      },
      "outputs": [],
      "source": [
        "import numpy as np"
      ]
    },
    {
      "cell_type": "code",
      "source": [
        "# Define the grid world environment\n",
        "grid = np.array([\n",
        "    [0, 0, 0, 1],\n",
        "    [0, 1, 0, -1],\n",
        "    [0, 0, 0, 0],\n",
        "    [1, 0, 1, 0]\n",
        "])"
      ],
      "metadata": {
        "id": "phHEAFEfN4Nr"
      },
      "execution_count": null,
      "outputs": []
    },
    {
      "cell_type": "code",
      "source": [
        "# Define possible actions (up, down, left, right)\n",
        "actions = [(0, -1), (0, 1), (-1, 0), (1, 0)]\n",
        "# Define the discount factor\n",
        "gamma = 0.9"
      ],
      "metadata": {
        "id": "7z-_V-KEN9dH"
      },
      "execution_count": null,
      "outputs": []
    },
    {
      "cell_type": "code",
      "source": [
        "# Initialize the state-value function\n",
        "state_values = np.zeros(grid.shape)\n",
        "# Initialize the policy (random policy)\n",
        "policy = np.ones((*grid.shape, len(actions))) / len(actions)"
      ],
      "metadata": {
        "id": "h5TWKp9gOEtH"
      },
      "execution_count": null,
      "outputs": []
    },
    {
      "cell_type": "code",
      "source": [
        "# Helper function to check if a state is valid\n",
        "def is_valid_state(state):\n",
        "    i, j = state\n",
        "    return 0 <= i < grid.shape[0] and 0 <= j < grid.shape[1]"
      ],
      "metadata": {
        "id": "TFhkeGBeOPp2"
      },
      "execution_count": null,
      "outputs": []
    },
    {
      "cell_type": "code",
      "source": [
        "# Helper function to check if a state is terminal\n",
        "def is_terminal_state(state):\n",
        "    return grid[state[0], state[1]] in [-1, 1]"
      ],
      "metadata": {
        "id": "7s5u1zyiORKm"
      },
      "execution_count": null,
      "outputs": []
    },
    {
      "cell_type": "code",
      "source": [
        "# Helper function to take an action in the environment\n",
        "def take_action(state, action):\n",
        "    i, j = state\n",
        "    di, dj = action\n",
        "    new_state = (i + di, j + dj)\n",
        "    return new_state if is_valid_state(new_state) else state"
      ],
      "metadata": {
        "id": "fAQ-NAEwOUBi"
      },
      "execution_count": null,
      "outputs": []
    },
    {
      "cell_type": "code",
      "source": [
        "# Helper function to calculate the expected value for a state\n",
        "def calculate_expected_value(state, action, state_values):\n",
        "    i, j = state\n",
        "    expected_value = 0\n",
        "    for a in range(len(actions)):\n",
        "        new_state = take_action(state, actions[a])\n",
        "        expected_value += policy[i, j, a] * (grid[new_state[0], new_state[1]] + gamma * state_values[new_state[0], new_state[1]])\n",
        "    return expected_value"
      ],
      "metadata": {
        "id": "orFz01-0OYVh"
      },
      "execution_count": null,
      "outputs": []
    },
    {
      "cell_type": "code",
      "source": [
        "def policy_iteration(episodes):\n",
        "    for _ in range(episodes):\n",
        "        episode = []\n",
        "        state = (2, 0)\n",
        "\n",
        "        while not is_terminal_state(state):\n",
        "            action = np.random.choice(len(actions), p=policy[state[0], state[1]])\n",
        "            new_state = take_action(state, actions[action])\n",
        "            episode.append((state, action, grid[new_state[0], new_state[1]]))\n",
        "            state = new_state\n",
        "\n",
        "        returns = 0\n",
        "        for t in reversed(range(len(episode))):\n",
        "            state, action, reward = episode[t]\n",
        "            returns = gamma * returns + reward\n",
        "            state_values[state[0], state[1]] += (1 / len(episode)) * (returns - state_values[state[0], state[1]])\n",
        "\n",
        "    return state_values"
      ],
      "metadata": {
        "id": "O_3rU3oEL4At"
      },
      "execution_count": null,
      "outputs": []
    },
    {
      "cell_type": "code",
      "source": [
        "def value_iteration():\n",
        "    theta = 1e-6\n",
        "    while True:\n",
        "        delta = 0\n",
        "        for i in range(grid.shape[0]):\n",
        "            for j in range(grid.shape[1]):\n",
        "                if is_terminal_state((i, j)):\n",
        "                    continue\n",
        "                v = state_values[i, j]\n",
        "                new_state_values = [calculate_expected_value((i, j), a, state_values) for a in range(len(actions))]\n",
        "                state_values[i, j] = max(new_state_values)\n",
        "                delta = max(delta, abs(v - state_values[i, j]))\n",
        "        if delta < theta:\n",
        "            break\n",
        "\n",
        "    return state_values"
      ],
      "metadata": {
        "id": "P3zcEB6fL4M_"
      },
      "execution_count": null,
      "outputs": []
    },
    {
      "cell_type": "code",
      "source": [
        "# Print the results\n",
        "if __name__ == \"__main__\":\n",
        "    print(\"Policy Iteration:\")\n",
        "    monte_carlo_result = policy_iteration(1000)\n",
        "    print(monte_carlo_result)\n",
        "\n",
        "    print(\"\\nValue Iteration:\")\n",
        "    value_iteration_result = value_iteration()\n",
        "    print(value_iteration_result)"
      ],
      "metadata": {
        "colab": {
          "base_uri": "https://localhost:8080/"
        },
        "id": "VrqnM7H-Mp-c",
        "outputId": "608d271c-07c2-4b46-88ed-7de05f74a496"
      },
      "execution_count": null,
      "outputs": [
        {
          "output_type": "stream",
          "name": "stdout",
          "text": [
            "Policy Iteration:\n",
            "[[ 0.21360175  0.08052634  0.31182021  0.        ]\n",
            " [ 0.5159758   0.         -0.22236022  0.        ]\n",
            " [ 1.          0.76247237  0.5488324   0.03204074]\n",
            " [ 0.          0.93404084  0.          0.56137298]]\n",
            "\n",
            "Value Iteration:\n",
            "[[ 0.54972091  0.6500159   0.5781122   0.        ]\n",
            " [ 0.69374896  0.          0.23014854  0.        ]\n",
            " [ 0.72874831  0.70527322  0.44477025 -0.0697762 ]\n",
            " [ 0.          0.84991803  0.          0.42600064]]\n"
          ]
        }
      ]
    }
  ]
}