{
  "nbformat": 4,
  "nbformat_minor": 0,
  "metadata": {
    "colab": {
      "provenance": [],
      "include_colab_link": true
    },
    "kernelspec": {
      "name": "python3",
      "display_name": "Python 3"
    },
    "language_info": {
      "name": "python"
    }
  },
  "cells": [
    {
      "cell_type": "markdown",
      "metadata": {
        "id": "view-in-github",
        "colab_type": "text"
      },
      "source": [
        "<a href=\"https://colab.research.google.com/github/sushant21csu463/RLLAB/blob/main/BlackJack.ipynb\" target=\"_parent\"><img src=\"https://colab.research.google.com/assets/colab-badge.svg\" alt=\"Open In Colab\"/></a>"
      ]
    },
    {
      "cell_type": "code",
      "execution_count": null,
      "metadata": {
        "colab": {
          "base_uri": "https://localhost:8080/"
        },
        "id": "at7gZmnb4B0u",
        "outputId": "3b2c186c-40d2-486e-b84b-0cfbea83c8c9"
      },
      "outputs": [
        {
          "output_type": "stream",
          "name": "stdout",
          "text": [
            "State Values:\n",
            "State 0: 4.3631\n",
            "State 1: 0.0000\n",
            "State 2: 4.0416\n",
            "State 3: 3.8734\n",
            "State 4: 3.7019\n",
            "State 5: 3.5353\n",
            "State 6: 3.3554\n",
            "State 7: 3.1749\n",
            "State 8: 3.0213\n",
            "State 9: 2.7338\n",
            "State 10: 2.5621\n",
            "State 11: 3.1238\n",
            "State 12: 2.9685\n",
            "State 13: 2.7336\n",
            "State 14: 2.6175\n",
            "State 15: 2.4261\n",
            "State 16: 2.2935\n",
            "State 17: 2.1421\n",
            "State 18: 2.0386\n",
            "State 19: 1.8871\n",
            "State 20: 1.0000\n",
            "State 21: 1.0000\n",
            "State 22: 0.0000\n",
            "State 23: 0.0000\n",
            "State 24: 0.0000\n",
            "State 25: 0.0000\n",
            "State 26: 0.0000\n",
            "State 27: 0.0000\n",
            "State 28: 0.0000\n",
            "State 29: 0.0000\n",
            "State 30: 0.0000\n",
            "State 31: 0.0000\n"
          ]
        }
      ],
      "source": [
        "import numpy as np\n",
        "\n",
        "# Define constants for the Blackjack problem\n",
        "NUM_STATES = 32  # Including usable ace and current sum\n",
        "NUM_ACTIONS = 2  # 0: Stick, 1: Hit\n",
        "NUM_EPISODES = 500000\n",
        "GAMMA = 1.0  # Discount factor\n",
        "\n",
        "# Initialize state values and state visit counts\n",
        "V = np.zeros(NUM_STATES)\n",
        "N = {}  # Dictionary to track visit counts for each state\n",
        "\n",
        "def generate_episode():\n",
        "    \"\"\"Generate an episode using the basic Blackjack strategy.\"\"\"\n",
        "    episode = []\n",
        "    usable_ace = False\n",
        "    player_sum = 0\n",
        "\n",
        "    # Initial state: (usable_ace, player_sum, dealer_card)\n",
        "    state = (usable_ace, player_sum, np.random.randint(1, 11))\n",
        "\n",
        "    while True:\n",
        "        action = 1 if player_sum < 20 else 0  # Stick if sum is 20 or 21, hit otherwise\n",
        "        episode.append((state, action))\n",
        "\n",
        "        if action == 0:  # Stick\n",
        "            break\n",
        "\n",
        "        # Hit: Draw a new card\n",
        "        card = np.random.randint(1, 11)\n",
        "        player_sum += card\n",
        "\n",
        "        # Check for usable ace\n",
        "        if card == 1 and player_sum + 10 <= 21:\n",
        "            usable_ace = True\n",
        "            player_sum += 10\n",
        "\n",
        "        # Check for bust\n",
        "        if player_sum > 21:\n",
        "            if usable_ace:\n",
        "                usable_ace = False\n",
        "                player_sum -= 10\n",
        "            else:\n",
        "                break\n",
        "\n",
        "        state = (usable_ace, player_sum, state[2])  # Update state\n",
        "\n",
        "    return episode\n",
        "\n",
        "def run_monte_carlo():\n",
        "    \"\"\"Run Monte Carlo to estimate state values.\"\"\"\n",
        "    for _ in range(NUM_EPISODES):\n",
        "        episode = generate_episode()\n",
        "        G = 0  # Return\n",
        "\n",
        "        # Update state values using Monte Carlo update rule\n",
        "        for t in reversed(range(len(episode))):\n",
        "            state, action = episode[t]\n",
        "            G = GAMMA * G + 1  # Discounted return\n",
        "            if state not in N:\n",
        "                N[state] = 0\n",
        "            N[state] += 1\n",
        "            V[state[1]] += (G - V[state[1]]) / N[state]\n",
        "\n",
        "if __name__ == \"__main__\":\n",
        "    run_monte_carlo()\n",
        "\n",
        "    # Print the estimated state values\n",
        "    print(\"State Values:\")\n",
        "    for i in range(NUM_STATES):\n",
        "        print(f\"State {i}: {V[i]:.4f}\")\n"
      ]
    }
  ]
}